{
 "cells": [
  {
   "cell_type": "code",
   "execution_count": null,
   "id": "385071a8",
   "metadata": {},
   "outputs": [
    {
     "name": "stdout",
     "output_type": "stream",
     "text": [
      " * Serving Flask app '__main__'\n",
      " * Debug mode: off\n"
     ]
    },
    {
     "name": "stderr",
     "output_type": "stream",
     "text": [
      "WARNING: This is a development server. Do not use it in a production deployment. Use a production WSGI server instead.\n",
      " * Running on http://127.0.0.1:5000\n",
      "Press CTRL+C to quit\n",
      "127.0.0.1 - - [04/Dec/2023 22:26:37] \"GET / HTTP/1.1\" 200 -\n",
      "127.0.0.1 - - [04/Dec/2023 22:26:37] \"GET / HTTP/1.1\" 200 -\n"
     ]
    },
    {
     "name": "stdout",
     "output_type": "stream",
     "text": [
      "1/1 [==============================] - 1s 504ms/step\n"
     ]
    },
    {
     "name": "stderr",
     "output_type": "stream",
     "text": [
      "127.0.0.1 - - [04/Dec/2023 22:26:47] \"POST /analyze HTTP/1.1\" 200 -\n",
      "127.0.0.1 - - [04/Dec/2023 22:26:47] \"GET /analyze HTTP/1.1\" 405 -\n"
     ]
    }
   ],
   "source": [
    "from flask import Flask, render_template, request\n",
    "from keras.models import load_model\n",
    "from keras.preprocessing.sequence import pad_sequences\n",
    "from keras.preprocessing.text import Tokenizer\n",
    "import numpy as np\n",
    "\n",
    "app = Flask(__name__)\n",
    "\n",
    "# Load the LSTM model\n",
    "#model = load_model('twitter_sentiment_lstm_model.h5')  \n",
    "model = load_model('sentiment_analysis_model.h5')\n",
    "#model = load_model('mymodel.h5')\n",
    "\n",
    "# Tokenizer for text preprocessing\n",
    "max_features = 1000  # Same as used in model training\n",
    "max_len = 100  # Same as used in model training\n",
    "tokenizer = Tokenizer(num_words=max_features, split=' ')\n",
    "\n",
    "@app.route('/')\n",
    "def index():\n",
    "    return render_template('index.html')\n",
    "\n",
    "@app.route('/analyze', methods=['POST'])\n",
    "def analyze():\n",
    "    if request.method == 'POST':\n",
    "        comment = request.form['comment']\n",
    "        \n",
    "        # Preprocess the text\n",
    "        comment_sequence = tokenizer.texts_to_sequences([comment])\n",
    "        comment_sequence = pad_sequences(comment_sequence, maxlen=max_len)\n",
    "        \n",
    "        # Perform prediction\n",
    "        result = model.predict(comment_sequence)\n",
    "        sentiment = \"Positive\" if np.argmax(result) == 1 else \"Negative\"\n",
    "\n",
    "        return render_template('result.html', comment=comment, sentiment=sentiment)\n",
    "\n",
    "if __name__ == '__main__':\n",
    "    app.run(debug=False)\n"
   ]
  },
  {
   "cell_type": "code",
   "execution_count": null,
   "id": "cc0ae0f8",
   "metadata": {},
   "outputs": [],
   "source": []
  }
 ],
 "metadata": {
  "kernelspec": {
   "display_name": "Python 3 (ipykernel)",
   "language": "python",
   "name": "python3"
  },
  "language_info": {
   "codemirror_mode": {
    "name": "ipython",
    "version": 3
   },
   "file_extension": ".py",
   "mimetype": "text/x-python",
   "name": "python",
   "nbconvert_exporter": "python",
   "pygments_lexer": "ipython3",
   "version": "3.11.4"
  }
 },
 "nbformat": 4,
 "nbformat_minor": 5
}
